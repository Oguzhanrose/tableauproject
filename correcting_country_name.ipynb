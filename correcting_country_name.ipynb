{
 "cells": [
  {
   "cell_type": "markdown",
   "id": "801eb86c",
   "metadata": {},
   "source": [
    "# Correcting country name"
   ]
  },
  {
   "cell_type": "code",
   "execution_count": 1,
   "id": "48730546",
   "metadata": {},
   "outputs": [],
   "source": [
    "# Import relevant library\n",
    "import pandas as pd"
   ]
  },
  {
   "cell_type": "code",
   "execution_count": 3,
   "id": "94a9df13",
   "metadata": {},
   "outputs": [],
   "source": [
    "# Load the raw data\n",
    "df = pd.read_excel('data.xlsx')"
   ]
  },
  {
   "cell_type": "code",
   "execution_count": 7,
   "id": "a8a6bd37",
   "metadata": {},
   "outputs": [],
   "source": [
    "# Correcting from abbreviation to full country name. To make tableau understand it.\n",
    "df.loc[df['TerritoryName'] == \"SE\", 'TerritoryName'] = \"Sweden\"\n",
    "df.loc[df['TerritoryName'] == \"DK\", 'TerritoryName'] = \"Denmark\"\n",
    "df.loc[df['TerritoryName'] == \"NO\", 'TerritoryName'] = \"Norway\""
   ]
  },
  {
   "cell_type": "code",
   "execution_count": 9,
   "id": "98ee35c7",
   "metadata": {},
   "outputs": [],
   "source": [
    "# Outputing the corrected dataframe as excel file\n",
    "df.to_excel(\"cleaned.xlsx\")  "
   ]
  }
 ],
 "metadata": {
  "kernelspec": {
   "display_name": "Python 3 (ipykernel)",
   "language": "python",
   "name": "python3"
  },
  "language_info": {
   "codemirror_mode": {
    "name": "ipython",
    "version": 3
   },
   "file_extension": ".py",
   "mimetype": "text/x-python",
   "name": "python",
   "nbconvert_exporter": "python",
   "pygments_lexer": "ipython3",
   "version": "3.8.6"
  },
  "toc": {
   "base_numbering": 1,
   "nav_menu": {},
   "number_sections": true,
   "sideBar": true,
   "skip_h1_title": false,
   "title_cell": "Table of Contents",
   "title_sidebar": "Contents",
   "toc_cell": false,
   "toc_position": {},
   "toc_section_display": true,
   "toc_window_display": true
  }
 },
 "nbformat": 4,
 "nbformat_minor": 5
}
